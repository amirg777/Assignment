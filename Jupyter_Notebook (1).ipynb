{
 "cells": [
  {
   "cell_type": "markdown",
   "metadata": {},
   "source": [
    "<center>\n",
    "    <img src=\"https://cf-courses-data.s3.us.cloud-object-storage.appdomain.cloud/IBMDeveloperSkillsNetwork-DS0105EN-SkillsNetwork/labs/Module2/images/SN_web_lightmode.png\" width=\"300\" alt=\"cognitiveclass.ai logo\">\n",
    "</center>\n"
   ]
  },
  {
   "cell_type": "markdown",
   "metadata": {},
   "source": [
    "#### Add your code below following the instructions given in the course\n"
   ]
  },
  {
   "cell_type": "markdown",
   "metadata": {},
   "source": [
    "Final assignments"
   ]
  },
  {
   "cell_type": "markdown",
   "metadata": {},
   "source": [
    "In this assignment, we delve into the realm of Jupyter and explore its myriad capabilities. From interactive code execution to seamless integration with visualization libraries, Jupyter empowers users to unlock the full potential of their data analysis workflows."
   ]
  },
  {
   "cell_type": "markdown",
   "metadata": {},
   "source": [
    "1. Python\n",
    "2. R\n",
    "3. SQL\n",
    "4. Julia\n",
    "5. Scala"
   ]
  },
  {
   "cell_type": "markdown",
   "metadata": {},
   "source": [
    "Data Science Libraries\n",
    "\n",
    "- NumPy\n",
    "- pandas\n",
    "- Matplotlib\n",
    "- Seaborn\n",
    "- SciPy\n",
    "- Scikit-learn\n",
    "- TensorFlow\n",
    "- Keras\n",
    "- PyTorch\n",
    "- NLTK (Natural Language Toolkit)"
   ]
  },
  {
   "cell_type": "markdown",
   "metadata": {},
   "source": [
    "Data Science Tools\n",
    "\n",
    "| Tool             | Description                              |\n",
    "|------------------|------------------------------------------|\n",
    "| Jupyter Notebook | Interactive computing environment        |\n",
    "| RStudio          | Integrated development environment for R |\n",
    "| Anaconda         | Distribution platform for Python/R       |\n",
    "| GitHub           | Version control and collaboration tool   |\n",
    "| Tableau          | Data visualization and analytics tool    |\n",
    "| Apache Spark     | Distributed computing framework          |\n",
    "| TensorFlow       | Machine learning framework by Google     |\n",
    "| PyTorch          | Machine learning framework by Facebook   |\n",
    "| Scikit-learn     | Machine learning library for Python      |\n",
    "| NLTK             | Natural Language Toolkit for Python      |"
   ]
  },
  {
   "cell_type": "markdown",
   "metadata": {},
   "source": [
    "## Arithmetic Expression Examples\n",
    "\n",
    "Arithmetic expressions involve mathematical operations such as addition, subtraction, multiplication, and division. Below are some examples of arithmetic expressions:\n",
    "\n",
    "1. **Addition**: Adding two numbers together.\n",
    "    - Example: \\( 5 + 3 = 8 \\)\n",
    "\n",
    "2. **Subtraction**: Subtracting one number from another.\n",
    "    - Example: \\( 10 - 4 = 6 \\)\n",
    "\n",
    "3. **Multiplication**: Multiplying two numbers together.\n",
    "    - Example: \\( 6 \\times 4 = 24 \\)\n",
    "\n",
    "4. **Division**: Dividing one number by another.\n",
    "    - Example: \\( 12 \\div 3 = 4 \\)\n",
    "\n",
    "These are basic arithmetic operations that form the foundation of mathematical calculations.\n"
   ]
  },
  {
   "cell_type": "markdown",
   "metadata": {},
   "source": [
    "# Multiply two numbers\n",
    "result_multiply = 5 * 3\n",
    "\n",
    "# Add two numbers\n",
    "result_addition = 5 + 3\n",
    "\n",
    "# Print the results\n",
    "print(\"Multiplication result:\", result_multiply)\n",
    "print(\"Addition result:\", result_addition)\n"
   ]
  },
  {
   "cell_type": "markdown",
   "metadata": {},
   "source": [
    "# Define the number of minutes\n",
    "minutes = 150\n",
    "\n",
    "# Convert minutes to hours\n",
    "hours = minutes / 60\n",
    "\n",
    "# Print the result\n",
    "print(minutes, \"minutes is equal to\", hours, \"hours\")\n"
   ]
  },
  {
   "cell_type": "markdown",
   "metadata": {},
   "source": [
    "# Objectives\n",
    "\n",
    "- Understand the basics of data science\n",
    "- Learn common data science tools and libraries\n",
    "- Gain hands-on experience with data analysis techniques\n",
    "- Explore different machine learning algorithms\n",
    "- Apply data visualization methods to communicate insights effectively\n"
   ]
  },
  {
   "cell_type": "markdown",
   "metadata": {},
   "source": [
    "# Author\n",
    "Amir Ghasemi\n"
   ]
  },
  {
   "cell_type": "code",
   "execution_count": null,
   "metadata": {},
   "outputs": [],
   "source": []
  }
 ],
 "metadata": {
  "kernelspec": {
   "display_name": "Python",
   "language": "python",
   "name": "conda-env-python-py"
  },
  "language_info": {
   "codemirror_mode": {
    "name": "ipython",
    "version": 3
   },
   "file_extension": ".py",
   "mimetype": "text/x-python",
   "name": "python",
   "nbconvert_exporter": "python",
   "pygments_lexer": "ipython3",
   "version": "3.7.12"
  }
 },
 "nbformat": 4,
 "nbformat_minor": 4
}
